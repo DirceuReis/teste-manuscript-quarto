{
 "cells": [
  {
   "cell_type": "markdown",
   "metadata": {},
   "source": [
    "# Fitting GEV parameters (ongoing work)\n",
    "\n",
    "Dirceu S. Reis Jr."
   ],
   "id": "6c3f57fc-3ce3-4c77-8df1-a69cddd83819"
  },
  {
   "cell_type": "code",
   "execution_count": null,
   "metadata": {},
   "outputs": [
    {
     "output_type": "stream",
     "name": "stderr",
     "text": [
      "Warning: package 'tidyverse' was built under R version 4.2.2"
     ]
    },
    {
     "output_type": "stream",
     "name": "stderr",
     "text": [
      "── Attaching packages ─────────────────────────────────────── tidyverse 1.3.2 ──\n",
      "✔ ggplot2 3.3.6     ✔ purrr   0.3.4\n",
      "✔ tibble  3.1.7     ✔ dplyr   1.0.9\n",
      "✔ tidyr   1.2.0     ✔ stringr 1.4.0\n",
      "✔ readr   2.1.2     ✔ forcats 0.5.1\n",
      "── Conflicts ────────────────────────────────────────── tidyverse_conflicts() ──\n",
      "✖ dplyr::filter() masks stats::filter()\n",
      "✖ dplyr::lag()    masks stats::lag()"
     ]
    },
    {
     "output_type": "stream",
     "name": "stderr",
     "text": [
      "Warning: package 'optimx' was built under R version 4.2.3"
     ]
    }
   ],
   "source": [
    "\n",
    "library(tidyverse)\n"
   ],
   "id": "086b4f2d-ff29-47f0-8371-b0fb9d46409b"
  },
  {
   "cell_type": "code",
   "execution_count": null,
   "metadata": {},
   "outputs": [],
   "source": [
    "\n",
    "# Generate annual maixmum series from a GEV distribution\n",
    "\n",
    "alpha <- 2.2\n",
    "csi <- 7.9\n",
    "kappa <- -0.05\n",
    "\n",
    "set.seed(123)\n",
    "p <- runif(30,0,1)\n",
    "\n",
    "# Generate a GEV series\n",
    "Q <- csi + alpha/kappa*(1-(-log(p))^kappa)\n"
   ],
   "id": "5ebd4bc7-d78a-4c6b-8e20-846cd1eea63e"
  },
  {
   "cell_type": "code",
   "execution_count": null,
   "metadata": {},
   "outputs": [],
   "source": [
    "\n",
    "# Function to estimate GEV parameters based upon L-MOM\n",
    "\n",
    "L_MOM_GEV <- function(Q){\n",
    "  ordered_Q <- Q[order(Q)]\n",
    "  b_0 <- mean(ordered_Q)\n",
    "  Cv <- sd(ordered_Q)/b_0\n",
    "  n <- length(ordered_Q)\n",
    "  aux <- seq(from = 1,to = n)\n",
    "  aux2 <- (aux - 1)/(n*(n-1))\n",
    "  b_1 <- sum(aux2*ordered_Q)\n",
    "  aux3 <- aux - 2\n",
    "  aux3[aux3 < 0] <- 0 \n",
    "  b_2 <- sum(aux2*aux3*ordered_Q/(n-2))\n",
    "\n",
    "  lambda_1 <- b_0\n",
    "  lambda_2 <- 2*b_1 - b_0\n",
    "  lambda_3 = 6*b_2 -6*b_1 + b_0\n",
    "\n",
    "  tao_3 <- lambda_3/lambda_2\n",
    "\n",
    "  c <- (2*b_1 - b_0)/(3*b_2 - b_0) - log(2)/log(3)\n",
    "\n",
    "  kappa_L <- 7.859*c + 2.9554*(c^2)\n",
    "  alpha_L <- lambda_2*kappa_L/((1 - 2^(-kappa_L))*(gamma(1 + kappa_L)))\n",
    "  csi_L <- lambda_1 - alpha_L/kappa_L*(1 - gamma(1 + kappa_L))\n",
    "\n",
    "  return(c(csi_L, alpha_L, kappa_L))\n",
    "}\n"
   ],
   "id": "fc13a3b5-4fb0-46e3-bc70-32757dc3ecf5"
  },
  {
   "cell_type": "code",
   "execution_count": null,
   "metadata": {},
   "outputs": [],
   "source": [
    "\n",
    "# Function to estimate GEV parameters based upon Maximum Likelihood\n",
    "\n",
    "log_Like_GEV <- function(par,Q){\n",
    "  n <- length(Q)\n",
    "  csi <- par[1]\n",
    "  alpha <- par[2]\n",
    "  kappa <- par[3]\n",
    "  \n",
    "  y <- 1 - kappa/alpha*(Q - csi);\n",
    "  if (sum(y<0)>0) {\n",
    "    term2 <- -1e6\n",
    "  } else {\n",
    "  term2 = (1/kappa - 1)*log(y) - y^(1/kappa)\n",
    "  }\n",
    "  \n",
    "  if (kappa < 0) {\n",
    "    if (min(Q) < csi + alpha/kappa){\n",
    "      likelihood <- 1e6\n",
    "      } else {\n",
    "        likelihood <- -(-n*log(alpha) + sum(term2)) \n",
    "      }\n",
    "    }\n",
    "  if (kappa > 0) {\n",
    "    if (max(Q) > csi + alpha/kappa){\n",
    "      likelihood <- 1e6\n",
    "    } else {\n",
    "        likelihood <- -(-n*log(alpha) + sum(term2))\n",
    "    }\n",
    "  }\n",
    "  return(likelihood)\n",
    "}\n"
   ],
   "id": "bfed0b90-d302-4747-a92e-7883d487e30c"
  },
  {
   "cell_type": "code",
   "execution_count": null,
   "metadata": {},
   "outputs": [],
   "source": [
    "\n",
    "# Function to estimate GEV parameters based upon the Generalized\n",
    "# Maximum Likelihood using the geophysical prior on kappa\n",
    "# See Martins and Stedinger (2001)\n",
    "\n",
    "log_GLike_GEV <- function(par,Q,meanK,varK){\n",
    "  n <- length(Q)\n",
    "  csi <- par[1]\n",
    "  alpha <- par[2]\n",
    "  kappa <- par[3]\n",
    "  \n",
    "  a <- 0.5\n",
    "  b <- meanK + a;\n",
    "  p <- b^2*(1-b)/varK - b;\n",
    "  q = p*(1/b - 1);\n",
    "\n",
    "  y <- 1 - kappa/alpha*(Q - csi);\n",
    "  if (sum(y<0)>0) {\n",
    "    term2 <- -1e6\n",
    "  } else {\n",
    "  term2 = (1/kappa - 1)*log(y) - y^(1/kappa)\n",
    "  }\n",
    "\n",
    "  if (kappa < 0) {\n",
    "    if (min(Q) < csi + alpha/kappa){\n",
    "      likelihood <- 1e6\n",
    "    } else {\n",
    "        likelihood <- -(-n*log(alpha) + sum(term2) +\n",
    "                       (p - 1)*log(a + kappa) + (q - 1)*log(a - kappa)) \n",
    "    }\n",
    "    }\n",
    "  if (kappa > 0) {\n",
    "    if (max(Q) > csi + alpha/kappa){\n",
    "      likelihood <- 1e6 \n",
    "    } else {\n",
    "      likelihood <- -(-n*log(alpha) + sum(term2) +\n",
    "                       (p - 1)*log(a + kappa) + (q - 1)*log(a - kappa))\n",
    "    }\n",
    "  }\n",
    "  return(likelihood)\n",
    "}\n"
   ],
   "id": "1c2f615b-5048-47f3-94c5-19c2108d341c"
  },
  {
   "cell_type": "code",
   "execution_count": null,
   "metadata": {
    "Label": "parameter-estimation"
   },
   "outputs": [
    {
     "output_type": "stream",
     "name": "stderr",
     "text": [
      "Warning in log(a + kappa): NaNs produzidos"
     ]
    }
   ],
   "source": [
    "\n",
    "# Estimate GEV parameters using\n",
    "# L-MOM\n",
    "# MLE\n",
    "# GMLE\n",
    "\n",
    "par_LMOM <- L_MOM_GEV(Q)\n",
    "\n",
    "GEV_MLE <- optimx(par_LMOM,log_Like_GEV,method=c(\"Nelder-Mead\",\"BFGS\")\n",
    "                        ,Q=Q)\n",
    "\n",
    "index_max_likelihood <- which.max(GEV_MLE$value)\n",
    "max_likelihood_MLE <- GEV_MLE$value[index_max_likelihood]\n",
    "par_MLE <- GEV_MLE[index_max_likelihood,1:3]\n",
    "  \n",
    "\n",
    "GEV_GMLE <- optimx(par_LMOM,log_GLike_GEV,method=c(\"Nelder-Mead\",\"BFGS\")\n",
    "                        ,Q=Q,meanK = -0.10,varK = 0.122^2)\n"
   ],
   "id": "af63b1f9-a2cb-43d9-b298-663d99af49f1"
  }
 ],
 "nbformat": 4,
 "nbformat_minor": 5,
 "metadata": {}
}
